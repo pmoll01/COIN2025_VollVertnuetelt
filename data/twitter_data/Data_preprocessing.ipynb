{
 "cells": [
  {
   "cell_type": "markdown",
   "id": "ac264a70",
   "metadata": {},
   "source": [
    "# Data preprocessing for the Twitter dataset"
   ]
  },
  {
   "cell_type": "code",
   "execution_count": 9,
   "id": "98cc2cac",
   "metadata": {},
   "outputs": [
    {
     "name": "stderr",
     "output_type": "stream",
     "text": [
      "[nltk_data] Downloading package punkt to\n",
      "[nltk_data]     C:\\Users\\paull\\AppData\\Roaming\\nltk_data...\n",
      "[nltk_data]   Package punkt is already up-to-date!\n",
      "[nltk_data] Downloading package wordnet to\n",
      "[nltk_data]     C:\\Users\\paull\\AppData\\Roaming\\nltk_data...\n",
      "[nltk_data]   Package wordnet is already up-to-date!\n",
      "[nltk_data] Downloading package stopwords to\n",
      "[nltk_data]     C:\\Users\\paull\\AppData\\Roaming\\nltk_data...\n",
      "[nltk_data]   Unzipping corpora\\stopwords.zip.\n"
     ]
    },
    {
     "data": {
      "text/plain": [
       "True"
      ]
     },
     "execution_count": 9,
     "metadata": {},
     "output_type": "execute_result"
    }
   ],
   "source": [
    "import os\n",
    "import pandas as pd\n",
    "import seaborn as sns\n",
    "import matplotlib.pyplot as plt\n",
    "from IPython.display import display\n",
    "import numpy as np\n",
    "from langdetect import detect, DetectorFactory, LangDetectException\n",
    "from tqdm import tqdm\n",
    "import matplotlib.pyplot as plt\n",
    "from transformers import AutoTokenizer, AutoModelForSequenceClassification\n",
    "from scipy.special import softmax\n",
    "import torch\n",
    "from tqdm import tqdm\n",
    "import nltk\n",
    "nltk.download(\"punkt\")\n",
    "nltk.download(\"wordnet\")\n",
    "\n",
    "import pandas as pd\n",
    "import re\n",
    "import string\n",
    "from langdetect import detect, LangDetectException\n",
    "from tqdm.auto import tqdm\n",
    "import spacy\n",
    "from nltk.corpus import stopwords\n",
    "\n",
    "import nltk\n",
    "nltk.download('stopwords')\n"
   ]
  },
  {
   "cell_type": "code",
   "execution_count": null,
   "id": "5f4dee4b",
   "metadata": {},
   "outputs": [
    {
     "name": "stderr",
     "output_type": "stream",
     "text": [
      "C:\\Users\\paull\\AppData\\Local\\Temp\\ipykernel_24448\\52893527.py:1: DtypeWarning: Columns (11,16,17,18,19) have mixed types. Specify dtype option on import or set low_memory=False.\n",
      "  musk_twitter_data = pd.read_csv(os.path.join('raw', 'all_musk_posts.csv'),parse_dates=[\"createdAt\"])\n"
     ]
    },
    {
     "data": {
      "text/plain": [
       "((54023, 25), (54023, 25), (54023, 25))"
      ]
     },
     "execution_count": 6,
     "metadata": {},
     "output_type": "execute_result"
    }
   ],
   "source": [
    "musk_twitter_data = pd.read_csv(os.path.join('raw', 'all_musk_posts.csv'),parse_dates=[\"createdAt\"])\n",
    "\n",
    "start_date = \"2015-01-01\"\n",
    "end_date = musk_twitter_data[\"createdAt\"].max()\n",
    "\n",
    "# end_date = musk_twitter_data[\"createdAt\"].max()\n",
    "\n",
    "musk_twitter_data = musk_twitter_data[musk_twitter_data[\"createdAt\"] > start_date]\n",
    "musk_twitter_data = musk_twitter_data[musk_twitter_data[\"createdAt\"] < end_date]\n",
    "\n",
    "musk_twitter_data[\"isRetweet\"] = musk_twitter_data[\"isRetweet\"].astype(str).str.lower()\n",
    "musk_twitter_data[\"possiblySensitive\"] = musk_twitter_data[\"possiblySensitive\"].astype(str).str.lower()\n",
    "musk_twitter_data[\"fullText\"] = musk_twitter_data[\"fullText\"].astype(str)\n",
    "musk_twitter_data[\"date\"] = musk_twitter_data[\"createdAt\"].dt.date\n",
    "\n",
    "musk_twitter_data_all = musk_twitter_data.copy()\n",
    "musk_twitter_data_nlp = musk_twitter_data.copy()\n",
    "\n",
    "musk_twitter_data_nlp.shape, musk_twitter_data_all.shape, musk_twitter_data.shape"
   ]
  },
  {
   "cell_type": "code",
   "execution_count": 10,
   "id": "9f98fa76",
   "metadata": {},
   "outputs": [
    {
     "data": {
      "application/vnd.jupyter.widget-view+json": {
       "model_id": "5c66efe88acf4f73956d0951f3e00f36",
       "version_major": 2,
       "version_minor": 0
      },
      "text/plain": [
       "  0%|          | 0/52939 [00:00<?, ?it/s]"
      ]
     },
     "metadata": {},
     "output_type": "display_data"
    },
    {
     "data": {
      "application/vnd.jupyter.widget-view+json": {
       "model_id": "33338a9e61c54074b72cdf3c4bf01e07",
       "version_major": 2,
       "version_minor": 0
      },
      "text/plain": [
       "  0%|          | 0/41819 [00:00<?, ?it/s]"
      ]
     },
     "metadata": {},
     "output_type": "display_data"
    },
    {
     "data": {
      "application/vnd.jupyter.widget-view+json": {
       "model_id": "90486dc07a6d4643913cc1d34920f0f0",
       "version_major": 2,
       "version_minor": 0
      },
      "text/plain": [
       "  0%|          | 0/41819 [00:00<?, ?it/s]"
      ]
     },
     "metadata": {},
     "output_type": "display_data"
    }
   ],
   "source": [
    "# --- Setup ---\n",
    "tqdm.pandas()\n",
    "nlp = spacy.load(\"en_core_web_sm\", disable=[\"parser\", \"ner\"])\n",
    "stop_words = set(stopwords.words('english'))\n",
    "\n",
    "# --- Helpers ---\n",
    "def safe_detect(text):\n",
    "    try:\n",
    "        text = str(text).strip()\n",
    "        if len(text) < 10:\n",
    "            return \"unknown\"\n",
    "        return detect(text)\n",
    "    except LangDetectException:\n",
    "        return \"unknown\"\n",
    "\n",
    "def clean_basic(text):\n",
    "    text = str(text)\n",
    "    text = re.sub(r\"http\\S+|www\\S+|@\\w+|#|RT\", \"\", text)\n",
    "    return text.strip()\n",
    "\n",
    "def clean_for_topic(text):\n",
    "    text = clean_basic(text).lower()\n",
    "    text = re.sub(f\"[{re.escape(string.punctuation)}]\", \"\", text)\n",
    "    text = re.sub(r\"\\d+\", \"\", text)\n",
    "    return text\n",
    "\n",
    "def preprocess_lemmatized(text):\n",
    "    text = clean_for_topic(text)\n",
    "    doc = nlp(text)\n",
    "    return \" \".join([token.lemma_ for token in doc if token.is_alpha and token.lemma_ not in stop_words])\n",
    "\n",
    "# --- NLP DataFrame creation ---\n",
    "musk_twitter_data_nlp = musk_twitter_data.copy()\n",
    "\n",
    "# Filter for valid original texts\n",
    "musk_twitter_data_nlp = musk_twitter_data_nlp[\n",
    "    (musk_twitter_data_nlp[\"isRetweet\"] != \"true\") &\n",
    "    (musk_twitter_data_nlp[\"fullText\"].str.strip() != \"\")\n",
    "]\n",
    "\n",
    "# Language detection\n",
    "musk_twitter_data_nlp[\"language\"] = musk_twitter_data_nlp[\"fullText\"].progress_apply(safe_detect)\n",
    "musk_twitter_data_nlp = musk_twitter_data_nlp[musk_twitter_data_nlp[\"language\"] == \"en\"]\n",
    "\n",
    "# Text variations\n",
    "musk_twitter_data_nlp[\"text_raw\"] = musk_twitter_data_nlp[\"fullText\"].progress_apply(clean_basic)\n",
    "musk_twitter_data_nlp[\"text_lemmatized\"] = musk_twitter_data_nlp[\"fullText\"].progress_apply(preprocess_lemmatized)"
   ]
  },
  {
   "cell_type": "code",
   "execution_count": 12,
   "id": "9588bbee",
   "metadata": {},
   "outputs": [
    {
     "name": "stdout",
     "output_type": "stream",
     "text": [
      "Number of tweets after filtering:  41819\n",
      "Number of tweets before filtering:  54023\n"
     ]
    },
    {
     "data": {
      "text/html": [
       "<div>\n",
       "<style scoped>\n",
       "    .dataframe tbody tr th:only-of-type {\n",
       "        vertical-align: middle;\n",
       "    }\n",
       "\n",
       "    .dataframe tbody tr th {\n",
       "        vertical-align: top;\n",
       "    }\n",
       "\n",
       "    .dataframe thead th {\n",
       "        text-align: right;\n",
       "    }\n",
       "</style>\n",
       "<table border=\"1\" class=\"dataframe\">\n",
       "  <thead>\n",
       "    <tr style=\"text-align: right;\">\n",
       "      <th></th>\n",
       "      <th>id</th>\n",
       "      <th>url</th>\n",
       "      <th>twitterUrl</th>\n",
       "      <th>fullText</th>\n",
       "      <th>retweetCount</th>\n",
       "      <th>replyCount</th>\n",
       "      <th>likeCount</th>\n",
       "      <th>quoteCount</th>\n",
       "      <th>viewCount</th>\n",
       "      <th>createdAt</th>\n",
       "      <th>...</th>\n",
       "      <th>isQuote</th>\n",
       "      <th>isConversationControlled</th>\n",
       "      <th>possiblySensitive</th>\n",
       "      <th>quoteId</th>\n",
       "      <th>quote</th>\n",
       "      <th>retweet</th>\n",
       "      <th>date</th>\n",
       "      <th>language</th>\n",
       "      <th>text_raw</th>\n",
       "      <th>text_lemmatized</th>\n",
       "    </tr>\n",
       "  </thead>\n",
       "  <tbody>\n",
       "    <tr>\n",
       "      <th>0</th>\n",
       "      <td>1655159652990976000</td>\n",
       "      <td>https://x.com/elonmusk/status/1655159652990976000</td>\n",
       "      <td>https://twitter.com/elonmusk/status/1655159652...</td>\n",
       "      <td>RT @einarvollset: I read @paulg’s  “How to Mak...</td>\n",
       "      <td>NaN</td>\n",
       "      <td>NaN</td>\n",
       "      <td>NaN</td>\n",
       "      <td>NaN</td>\n",
       "      <td>NaN</td>\n",
       "      <td>2023-05-07 10:36:27+00:00</td>\n",
       "      <td>...</td>\n",
       "      <td>NaN</td>\n",
       "      <td>NaN</td>\n",
       "      <td>nan</td>\n",
       "      <td>NaN</td>\n",
       "      <td>NaN</td>\n",
       "      <td>NaN</td>\n",
       "      <td>2023-05-07</td>\n",
       "      <td>en</td>\n",
       "      <td>: I read ’s  “How to Make Wealth” in Hackers &amp;...</td>\n",
       "      <td>I read make wealth hacker amp painter I mid tw...</td>\n",
       "    </tr>\n",
       "    <tr>\n",
       "      <th>2</th>\n",
       "      <td>1623774484795920384</td>\n",
       "      <td>https://x.com/elonmusk/status/1623774484795920384</td>\n",
       "      <td>https://twitter.com/elonmusk/status/1623774484...</td>\n",
       "      <td>RT @BillyM2k: dude bookmarks are an awesome tw...</td>\n",
       "      <td>NaN</td>\n",
       "      <td>NaN</td>\n",
       "      <td>NaN</td>\n",
       "      <td>NaN</td>\n",
       "      <td>NaN</td>\n",
       "      <td>2023-02-09 20:03:00+00:00</td>\n",
       "      <td>...</td>\n",
       "      <td>NaN</td>\n",
       "      <td>NaN</td>\n",
       "      <td>nan</td>\n",
       "      <td>NaN</td>\n",
       "      <td>NaN</td>\n",
       "      <td>NaN</td>\n",
       "      <td>2023-02-09</td>\n",
       "      <td>en</td>\n",
       "      <td>: dude bookmarks are an awesome twitter featur...</td>\n",
       "      <td>dude bookmark awesome twitter feature especial...</td>\n",
       "    </tr>\n",
       "    <tr>\n",
       "      <th>3</th>\n",
       "      <td>1656900119202254854</td>\n",
       "      <td>https://x.com/elonmusk/status/1656900119202254854</td>\n",
       "      <td>https://twitter.com/elonmusk/status/1656900119...</td>\n",
       "      <td>Event Horizon Balance Beam</td>\n",
       "      <td>NaN</td>\n",
       "      <td>NaN</td>\n",
       "      <td>NaN</td>\n",
       "      <td>NaN</td>\n",
       "      <td>NaN</td>\n",
       "      <td>2023-05-12 05:52:26+00:00</td>\n",
       "      <td>...</td>\n",
       "      <td>NaN</td>\n",
       "      <td>NaN</td>\n",
       "      <td>nan</td>\n",
       "      <td>NaN</td>\n",
       "      <td>NaN</td>\n",
       "      <td>NaN</td>\n",
       "      <td>2023-05-12</td>\n",
       "      <td>en</td>\n",
       "      <td>Event Horizon Balance Beam</td>\n",
       "      <td>event horizon balance beam</td>\n",
       "    </tr>\n",
       "    <tr>\n",
       "      <th>4</th>\n",
       "      <td>1616531874763116544</td>\n",
       "      <td>https://x.com/elonmusk/status/1616531874763116544</td>\n",
       "      <td>https://twitter.com/elonmusk/status/1616531874...</td>\n",
       "      <td>RT @BillyM2k: @elonmusk oh that’s actually pre...</td>\n",
       "      <td>NaN</td>\n",
       "      <td>NaN</td>\n",
       "      <td>NaN</td>\n",
       "      <td>NaN</td>\n",
       "      <td>NaN</td>\n",
       "      <td>2023-01-20 20:23:27+00:00</td>\n",
       "      <td>...</td>\n",
       "      <td>NaN</td>\n",
       "      <td>NaN</td>\n",
       "      <td>nan</td>\n",
       "      <td>NaN</td>\n",
       "      <td>NaN</td>\n",
       "      <td>NaN</td>\n",
       "      <td>2023-01-20</td>\n",
       "      <td>en</td>\n",
       "      <td>:  oh that’s actually pretty cool!</td>\n",
       "      <td>oh actually pretty cool</td>\n",
       "    </tr>\n",
       "    <tr>\n",
       "      <th>5</th>\n",
       "      <td>1608035930983604230</td>\n",
       "      <td>https://x.com/elonmusk/status/1608035930983604230</td>\n",
       "      <td>https://twitter.com/elonmusk/status/1608035930...</td>\n",
       "      <td>RT @SpaceX: Watch Falcon 9 launch 54 Starlink ...</td>\n",
       "      <td>NaN</td>\n",
       "      <td>NaN</td>\n",
       "      <td>NaN</td>\n",
       "      <td>NaN</td>\n",
       "      <td>NaN</td>\n",
       "      <td>2022-12-28 09:43:36+00:00</td>\n",
       "      <td>...</td>\n",
       "      <td>NaN</td>\n",
       "      <td>NaN</td>\n",
       "      <td>nan</td>\n",
       "      <td>NaN</td>\n",
       "      <td>NaN</td>\n",
       "      <td>NaN</td>\n",
       "      <td>2022-12-28</td>\n",
       "      <td>en</td>\n",
       "      <td>: Watch Falcon 9 launch 54 Starlink satellites...</td>\n",
       "      <td>watch falcon launch starlink satellite orbit</td>\n",
       "    </tr>\n",
       "  </tbody>\n",
       "</table>\n",
       "<p>5 rows × 28 columns</p>\n",
       "</div>"
      ],
      "text/plain": [
       "                    id                                                url  \\\n",
       "0  1655159652990976000  https://x.com/elonmusk/status/1655159652990976000   \n",
       "2  1623774484795920384  https://x.com/elonmusk/status/1623774484795920384   \n",
       "3  1656900119202254854  https://x.com/elonmusk/status/1656900119202254854   \n",
       "4  1616531874763116544  https://x.com/elonmusk/status/1616531874763116544   \n",
       "5  1608035930983604230  https://x.com/elonmusk/status/1608035930983604230   \n",
       "\n",
       "                                          twitterUrl  \\\n",
       "0  https://twitter.com/elonmusk/status/1655159652...   \n",
       "2  https://twitter.com/elonmusk/status/1623774484...   \n",
       "3  https://twitter.com/elonmusk/status/1656900119...   \n",
       "4  https://twitter.com/elonmusk/status/1616531874...   \n",
       "5  https://twitter.com/elonmusk/status/1608035930...   \n",
       "\n",
       "                                            fullText  retweetCount  \\\n",
       "0  RT @einarvollset: I read @paulg’s  “How to Mak...           NaN   \n",
       "2  RT @BillyM2k: dude bookmarks are an awesome tw...           NaN   \n",
       "3                         Event Horizon Balance Beam           NaN   \n",
       "4  RT @BillyM2k: @elonmusk oh that’s actually pre...           NaN   \n",
       "5  RT @SpaceX: Watch Falcon 9 launch 54 Starlink ...           NaN   \n",
       "\n",
       "   replyCount  likeCount  quoteCount  viewCount                 createdAt  \\\n",
       "0         NaN        NaN         NaN        NaN 2023-05-07 10:36:27+00:00   \n",
       "2         NaN        NaN         NaN        NaN 2023-02-09 20:03:00+00:00   \n",
       "3         NaN        NaN         NaN        NaN 2023-05-12 05:52:26+00:00   \n",
       "4         NaN        NaN         NaN        NaN 2023-01-20 20:23:27+00:00   \n",
       "5         NaN        NaN         NaN        NaN 2022-12-28 09:43:36+00:00   \n",
       "\n",
       "   ...  isQuote isConversationControlled  possiblySensitive  quoteId  quote  \\\n",
       "0  ...      NaN                      NaN                nan      NaN    NaN   \n",
       "2  ...      NaN                      NaN                nan      NaN    NaN   \n",
       "3  ...      NaN                      NaN                nan      NaN    NaN   \n",
       "4  ...      NaN                      NaN                nan      NaN    NaN   \n",
       "5  ...      NaN                      NaN                nan      NaN    NaN   \n",
       "\n",
       "  retweet        date language  \\\n",
       "0     NaN  2023-05-07       en   \n",
       "2     NaN  2023-02-09       en   \n",
       "3     NaN  2023-05-12       en   \n",
       "4     NaN  2023-01-20       en   \n",
       "5     NaN  2022-12-28       en   \n",
       "\n",
       "                                            text_raw  \\\n",
       "0  : I read ’s  “How to Make Wealth” in Hackers &...   \n",
       "2  : dude bookmarks are an awesome twitter featur...   \n",
       "3                         Event Horizon Balance Beam   \n",
       "4                 :  oh that’s actually pretty cool!   \n",
       "5  : Watch Falcon 9 launch 54 Starlink satellites...   \n",
       "\n",
       "                                     text_lemmatized  \n",
       "0  I read make wealth hacker amp painter I mid tw...  \n",
       "2  dude bookmark awesome twitter feature especial...  \n",
       "3                         event horizon balance beam  \n",
       "4                            oh actually pretty cool  \n",
       "5       watch falcon launch starlink satellite orbit  \n",
       "\n",
       "[5 rows x 28 columns]"
      ]
     },
     "metadata": {},
     "output_type": "display_data"
    }
   ],
   "source": [
    "print(\"Number of tweets after filtering: \", musk_twitter_data_nlp.shape[0])\n",
    "print(\"Number of tweets before filtering: \", musk_twitter_data.shape[0])\n",
    "\n",
    "display(musk_twitter_data_nlp.head()) \n"
   ]
  },
  {
   "cell_type": "code",
   "execution_count": null,
   "id": "b6baaf7d",
   "metadata": {},
   "outputs": [],
   "source": [
    "# To csv\n",
    "musk_twitter_data_nlp.to_csv(os.path.join('cleaned', 'musk_twitter_data_nlp.csv'), index=False)\n",
    "musk_twitter_data_all.to_csv(os.path.join('cleaned', 'musk_twitter_data_all.csv'), index=False)"
   ]
  }
 ],
 "metadata": {
  "kernelspec": {
   "display_name": "VollVertnuettelt",
   "language": "python",
   "name": "python3"
  },
  "language_info": {
   "codemirror_mode": {
    "name": "ipython",
    "version": 3
   },
   "file_extension": ".py",
   "mimetype": "text/x-python",
   "name": "python",
   "nbconvert_exporter": "python",
   "pygments_lexer": "ipython3",
   "version": "3.10.17"
  }
 },
 "nbformat": 4,
 "nbformat_minor": 5
}
