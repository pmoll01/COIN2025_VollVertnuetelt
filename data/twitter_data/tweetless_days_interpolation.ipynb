{
 "cells": [
  {
   "metadata": {},
   "cell_type": "markdown",
   "source": [
    "!bitte nicht nochmal in die csv schreiben (also letzten block unkommentieren und ausführen)!\n",
    "\n",
    "lineare interpolation der tage ohne tweets\n",
    "Beispiel:\n",
    "Tag 1, 2, 3\n",
    "tag 1, anger: 0.1\n",
    "tag 2, anger: 0.0 (keine tweets)\n",
    "tag 3, anger: 0.9\n",
    "-> tag 2, anger wird auf 0.1 + (0.9-0.1)/2 = 0.5 gestellt\n",
    "\n",
    "tag 4, anger: 0.2\n",
    "tag 5, anger: 0.0 (keine tweets)\n",
    "tag 6, anger: 0.0 (keine tweets)\n",
    "tag 7, anger: 0.8\n",
    "-> tag 5, anger wird auf 0.2 + (0.8-0.2)/3 *1 = 0.4 gestellt\n",
    "-> tag 6, anger wird auf 0.2 + (0.8-0.2)/3 *2 = 0.6 gestellt"
   ],
   "id": "d76584e1bd6bdc11"
  },
  {
   "cell_type": "code",
   "id": "initial_id",
   "metadata": {
    "collapsed": true,
    "ExecuteTime": {
     "end_time": "2025-05-20T17:02:10.235011Z",
     "start_time": "2025-05-20T17:02:10.205439Z"
    }
   },
   "source": [
    "import pandas as pd\n",
    "final_daily_df = pd.read_csv('final_daily_df.csv')\n",
    "final_daily_df['date'] = pd.to_datetime(final_daily_df['date'])"
   ],
   "outputs": [],
   "execution_count": 4
  },
  {
   "metadata": {
    "ExecuteTime": {
     "end_time": "2025-05-20T17:02:10.282109Z",
     "start_time": "2025-05-20T17:02:10.242460Z"
    }
   },
   "cell_type": "code",
   "source": [
    "import numpy as np\n",
    "\n",
    "# Spalten, die nicht interpoliert werden sollen\n",
    "exclude_cols = [\"date\", \"tweet_count\", \"nlp_tweet_count\"]\n",
    "\n",
    "# Alle anderen Spalten interpolieren\n",
    "interpolate_cols = [col for col in final_daily_df.columns if col not in exclude_cols]\n",
    "\n",
    "# Nur interpolieren, wenn der Tag ohne Tweets ist (tweet_count == 0)\n",
    "mask = final_daily_df[\"tweet_count\"] == 0\n",
    "\n",
    "# Temporäres DataFrame für Interpolation (nur numerische Spalten)\n",
    "to_interpolate = final_daily_df[interpolate_cols].copy()\n",
    "\n",
    "# Werte, die interpoliert werden dürfen, bleiben drin – Rest wird zu NaN\n",
    "to_interpolate[mask] = to_interpolate[mask].replace(0, np.nan)\n",
    "\n",
    "# Lineare Interpolation über den Zeitindex\n",
    "to_interpolate = to_interpolate.interpolate(method=\"linear\", limit_direction=\"both\")\n",
    "\n",
    "# Zurückschreiben der interpolierten Werte nur für maskierte Zeilen\n",
    "final_daily_df.loc[mask, interpolate_cols] = to_interpolate.loc[mask]\n",
    "\n"
   ],
   "id": "43c0cba06c56412a",
   "outputs": [],
   "execution_count": 5
  },
  {
   "metadata": {
    "ExecuteTime": {
     "end_time": "2025-05-20T17:06:38.120489Z",
     "start_time": "2025-05-20T17:06:38.041606Z"
    }
   },
   "cell_type": "code",
   "source": [
    "# put final_daily_df into a new csv file\n",
    "#final_daily_df.to_csv('final_daily_df.csv', index=False)"
   ],
   "id": "fc2a67db0bcfcc0",
   "outputs": [],
   "execution_count": 8
  }
 ],
 "metadata": {
  "kernelspec": {
   "display_name": "Python 3",
   "language": "python",
   "name": "python3"
  },
  "language_info": {
   "codemirror_mode": {
    "name": "ipython",
    "version": 2
   },
   "file_extension": ".py",
   "mimetype": "text/x-python",
   "name": "python",
   "nbconvert_exporter": "python",
   "pygments_lexer": "ipython2",
   "version": "2.7.6"
  }
 },
 "nbformat": 4,
 "nbformat_minor": 5
}
