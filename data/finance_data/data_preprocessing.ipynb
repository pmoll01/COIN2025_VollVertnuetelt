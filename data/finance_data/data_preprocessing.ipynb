{
 "cells": [
  {
   "cell_type": "code",
   "id": "initial_id",
   "metadata": {
    "collapsed": true,
    "ExecuteTime": {
     "end_time": "2025-05-16T12:58:15.845395Z",
     "start_time": "2025-05-16T12:58:15.826851Z"
    }
   },
   "source": [
    "import pandas as pd\n",
    "import numpy as np\n",
    "import os\n",
    "import datetime"
   ],
   "outputs": [],
   "execution_count": 2
  },
  {
   "metadata": {
    "ExecuteTime": {
     "end_time": "2025-05-16T13:07:33.577114Z",
     "start_time": "2025-05-16T13:07:33.568110Z"
    }
   },
   "cell_type": "code",
   "source": [
    "def load_finance_data(filepath=\"financeData_target_variables.csv\"):\n",
    "    \"\"\"\n",
    "    Lädt die Finanzdaten aus der CSV-Datei in ein DataFrame.\n",
    "    \"\"\"\n",
    "    df = pd.read_csv(filepath, parse_dates=[\"Date\"])\n",
    "    return df"
   ],
   "id": "2c82eb247c34fa38",
   "outputs": [],
   "execution_count": 13
  },
  {
   "metadata": {
    "ExecuteTime": {
     "end_time": "2025-05-16T13:07:35.789603Z",
     "start_time": "2025-05-16T13:07:35.701292Z"
    }
   },
   "cell_type": "code",
   "source": [
    "df = load_finance_data()\n",
    "df.head()"
   ],
   "id": "339c6f2b26b3edc0",
   "outputs": [
    {
     "data": {
      "text/plain": [
       "        Date  sp500_close  bitcoin_close  nasdaq_close  sp500_volume  \\\n",
       "0 2014-09-17  2001.569946     457.334015   4562.189941  3.209420e+09   \n",
       "1 2014-09-18  2011.359985     424.440002   4593.430176  3.235340e+09   \n",
       "2 2014-09-19  2010.400024     394.795990   4579.790039  4.880220e+09   \n",
       "3 2014-09-20          NaN     408.903992           NaN           NaN   \n",
       "4 2014-09-21          NaN     398.821014           NaN           NaN   \n",
       "\n",
       "   bitcoin_volume  nasdaq_volume  \n",
       "0        21056800   1.796710e+09  \n",
       "1        34483200   1.774840e+09  \n",
       "2        37919700   3.178490e+09  \n",
       "3        36863600            NaN  \n",
       "4        26580100            NaN  "
      ],
      "text/html": [
       "<div>\n",
       "<style scoped>\n",
       "    .dataframe tbody tr th:only-of-type {\n",
       "        vertical-align: middle;\n",
       "    }\n",
       "\n",
       "    .dataframe tbody tr th {\n",
       "        vertical-align: top;\n",
       "    }\n",
       "\n",
       "    .dataframe thead th {\n",
       "        text-align: right;\n",
       "    }\n",
       "</style>\n",
       "<table border=\"1\" class=\"dataframe\">\n",
       "  <thead>\n",
       "    <tr style=\"text-align: right;\">\n",
       "      <th></th>\n",
       "      <th>Date</th>\n",
       "      <th>sp500_close</th>\n",
       "      <th>bitcoin_close</th>\n",
       "      <th>nasdaq_close</th>\n",
       "      <th>sp500_volume</th>\n",
       "      <th>bitcoin_volume</th>\n",
       "      <th>nasdaq_volume</th>\n",
       "    </tr>\n",
       "  </thead>\n",
       "  <tbody>\n",
       "    <tr>\n",
       "      <th>0</th>\n",
       "      <td>2014-09-17</td>\n",
       "      <td>2001.569946</td>\n",
       "      <td>457.334015</td>\n",
       "      <td>4562.189941</td>\n",
       "      <td>3.209420e+09</td>\n",
       "      <td>21056800</td>\n",
       "      <td>1.796710e+09</td>\n",
       "    </tr>\n",
       "    <tr>\n",
       "      <th>1</th>\n",
       "      <td>2014-09-18</td>\n",
       "      <td>2011.359985</td>\n",
       "      <td>424.440002</td>\n",
       "      <td>4593.430176</td>\n",
       "      <td>3.235340e+09</td>\n",
       "      <td>34483200</td>\n",
       "      <td>1.774840e+09</td>\n",
       "    </tr>\n",
       "    <tr>\n",
       "      <th>2</th>\n",
       "      <td>2014-09-19</td>\n",
       "      <td>2010.400024</td>\n",
       "      <td>394.795990</td>\n",
       "      <td>4579.790039</td>\n",
       "      <td>4.880220e+09</td>\n",
       "      <td>37919700</td>\n",
       "      <td>3.178490e+09</td>\n",
       "    </tr>\n",
       "    <tr>\n",
       "      <th>3</th>\n",
       "      <td>2014-09-20</td>\n",
       "      <td>NaN</td>\n",
       "      <td>408.903992</td>\n",
       "      <td>NaN</td>\n",
       "      <td>NaN</td>\n",
       "      <td>36863600</td>\n",
       "      <td>NaN</td>\n",
       "    </tr>\n",
       "    <tr>\n",
       "      <th>4</th>\n",
       "      <td>2014-09-21</td>\n",
       "      <td>NaN</td>\n",
       "      <td>398.821014</td>\n",
       "      <td>NaN</td>\n",
       "      <td>NaN</td>\n",
       "      <td>26580100</td>\n",
       "      <td>NaN</td>\n",
       "    </tr>\n",
       "  </tbody>\n",
       "</table>\n",
       "</div>"
      ]
     },
     "execution_count": 14,
     "metadata": {},
     "output_type": "execute_result"
    }
   ],
   "execution_count": 14
  },
  {
   "metadata": {
    "ExecuteTime": {
     "end_time": "2025-05-16T13:14:21.511815Z",
     "start_time": "2025-05-16T13:14:21.436865Z"
    }
   },
   "cell_type": "code",
   "source": [
    "def update_csv_with_btc_change(filepath=\"financeData_target_variables.csv\"):\n",
    "    # CSV laden\n",
    "    df = pd.read_csv(filepath, parse_dates=[\"Date\"])\n",
    "\n",
    "    # Nach Datum sortieren (für korrekte pct_change)\n",
    "    df = df.sort_values(\"Date\").reset_index(drop=True)\n",
    "\n",
    "    # Prozentuale Änderung berechnen\n",
    "    df[\"btc_change\"] = df[\"bitcoin_close\"].pct_change() * 100\n",
    "    df[\"sp500_change\"] = df[\"sp500_close\"].pct_change() * 100\n",
    "    df[\"nasdaq_change\"] = df[\"nasdaq_close\"].pct_change() * 100\n",
    "    \n",
    "\n",
    "    df.to_csv(filepath, index=False)\n",
    "    \n",
    "update_csv_with_btc_change()"
   ],
   "id": "a2bd51069e2e98f4",
   "outputs": [
    {
     "name": "stderr",
     "output_type": "stream",
     "text": [
      "C:\\Users\\malte\\AppData\\Local\\Temp\\ipykernel_19268\\766523630.py:10: FutureWarning: The default fill_method='pad' in Series.pct_change is deprecated and will be removed in a future version. Either fill in any non-leading NA values prior to calling pct_change or specify 'fill_method=None' to not fill NA values.\n",
      "  df[\"sp500_change\"] = df[\"sp500_close\"].pct_change() * 100\n",
      "C:\\Users\\malte\\AppData\\Local\\Temp\\ipykernel_19268\\766523630.py:11: FutureWarning: The default fill_method='pad' in Series.pct_change is deprecated and will be removed in a future version. Either fill in any non-leading NA values prior to calling pct_change or specify 'fill_method=None' to not fill NA values.\n",
      "  df[\"nasdaq_change\"] = df[\"nasdaq_close\"].pct_change() * 100\n"
     ]
    }
   ],
   "execution_count": 24
  },
  {
   "metadata": {
    "ExecuteTime": {
     "end_time": "2025-05-16T13:23:47.130027Z",
     "start_time": "2025-05-16T13:23:47.051718Z"
    }
   },
   "cell_type": "code",
   "source": [
    "def update_csv_with_btc_change(filepath=\"financeData_target_variables.csv\"):\n",
    "    df = pd.read_csv(filepath, parse_dates=[\"Date\"])\n",
    "    df = df.sort_values(\"Date\").reset_index(drop=True)\n",
    "\n",
    "    # Bitcoin: täglich vorhanden → shift(1) reicht\n",
    "    df[\"btc_change\"] = df[\"bitcoin_close\"].div(df[\"bitcoin_close\"].shift(1)).subtract(1).mul(100)\n",
    "\n",
    "    # SP500 / NASDAQ: evtl. NaNs → erst forward fill, dann shift\n",
    "    df[\"sp500_last_valid\"] = df[\"sp500_close\"].ffill().shift(1)\n",
    "    df[\"sp500_change\"] = df[\"sp500_close\"].div(df[\"sp500_last_valid\"]).subtract(1).mul(100)\n",
    "\n",
    "    df[\"nasdaq_last_valid\"] = df[\"nasdaq_close\"].ffill().shift(1)\n",
    "    df[\"nasdaq_change\"] = df[\"nasdaq_close\"].div(df[\"nasdaq_last_valid\"]).subtract(1).mul(100)\n",
    "\n",
    "    # Hilfsspalten entfernen\n",
    "    df = df.drop(columns=[\"sp500_last_valid\", \"nasdaq_last_valid\"])\n",
    "    \n",
    "    #df.head()\n",
    "    #return df\n",
    "    df.to_csv(filepath, index=False)\n",
    "\n",
    "update_csv_with_btc_change()\n"
   ],
   "id": "b24f9eb491d89a5c",
   "outputs": [],
   "execution_count": 26
  }
 ],
 "metadata": {
  "kernelspec": {
   "display_name": "Python 3",
   "language": "python",
   "name": "python3"
  },
  "language_info": {
   "codemirror_mode": {
    "name": "ipython",
    "version": 2
   },
   "file_extension": ".py",
   "mimetype": "text/x-python",
   "name": "python",
   "nbconvert_exporter": "python",
   "pygments_lexer": "ipython2",
   "version": "2.7.6"
  }
 },
 "nbformat": 4,
 "nbformat_minor": 5
}
